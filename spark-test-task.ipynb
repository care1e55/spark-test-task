{
 "cells": [
  {
   "cell_type": "code",
   "execution_count": 3,
   "metadata": {},
   "outputs": [],
   "source": [
    "from pyspark import SparkContext\n",
    "from pyspark.sql import SQLContext\n",
    "import os\n",
    "import re"
   ]
  },
  {
   "cell_type": "code",
   "execution_count": null,
   "metadata": {},
   "outputs": [],
   "source": [
    "# sc = SparkContext(\"local\", \"Simple App\")"
   ]
  },
  {
   "cell_type": "code",
   "execution_count": 4,
   "metadata": {},
   "outputs": [],
   "source": [
    "filepath = \"/storage/Study/myCode/spark/BDAS-P-Resource-Bundle/RB-Python/\""
   ]
  },
  {
   "cell_type": "code",
   "execution_count": 6,
   "metadata": {},
   "outputs": [],
   "source": [
    "logpath = \"/storage/Study/myCode/spark/logs/ghtorrent-logs.txt\""
   ]
  },
  {
   "cell_type": "code",
   "execution_count": 7,
   "metadata": {},
   "outputs": [],
   "source": [
    "logData = sc.textFile(logpath)"
   ]
  },
  {
   "cell_type": "code",
   "execution_count": 8,
   "metadata": {},
   "outputs": [
    {
     "data": {
      "text/plain": [
       "9669788"
      ]
     },
     "execution_count": 8,
     "metadata": {},
     "output_type": "execute_result"
    }
   ],
   "source": [
    "logData.count()"
   ]
  },
  {
   "cell_type": "code",
   "execution_count": 10,
   "metadata": {},
   "outputs": [
    {
     "data": {
      "text/plain": [
       "132158"
      ]
     },
     "execution_count": 10,
     "metadata": {},
     "output_type": "execute_result"
    }
   ],
   "source": [
    "logData.filter(lambda x: \"WARN\" in x).count()"
   ]
  },
  {
   "cell_type": "code",
   "execution_count": 11,
   "metadata": {},
   "outputs": [],
   "source": [
    "apiRDD = logData.filter(lambda x: \"api_client\" in x).filter(lambda x: \"https://api.github.com/repos\" in x)"
   ]
  },
  {
   "cell_type": "code",
   "execution_count": 12,
   "metadata": {},
   "outputs": [],
   "source": [
    "def maprepos(x):\n",
    "    try:\n",
    "        return re.search('^.*repos/(.*?)/.*$', x.split(\",\")[2]).groups()[0]\n",
    "    except:\n",
    "        return \"invalid\""
   ]
  },
  {
   "cell_type": "code",
   "execution_count": 13,
   "metadata": {},
   "outputs": [
    {
     "data": {
      "text/plain": [
       "55986"
      ]
     },
     "execution_count": 13,
     "metadata": {},
     "output_type": "execute_result"
    }
   ],
   "source": [
    "apiRDD.map(maprepos).filter(lambda x: x != \"invalid\").distinct().count()"
   ]
  },
  {
   "cell_type": "code",
   "execution_count": 14,
   "metadata": {},
   "outputs": [
    {
     "data": {
      "text/plain": [
       "(' ghtorrent-13', 85463)"
      ]
     },
     "execution_count": 14,
     "metadata": {},
     "output_type": "execute_result"
    }
   ],
   "source": [
    "apiRDD.groupBy(lambda x: x.split(\",\")[2].split(\" --\")[0]) \\\n",
    "        .map(lambda x: (x[0], len(x[1]))) \\\n",
    "        .max(key=lambda x: x[1])"
   ]
  },
  {
   "cell_type": "code",
   "execution_count": 15,
   "metadata": {},
   "outputs": [
    {
     "data": {
      "text/plain": [
       "(' ghtorrent-13', 79617)"
      ]
     },
     "execution_count": 15,
     "metadata": {},
     "output_type": "execute_result"
    }
   ],
   "source": [
    "apiRDD.filter(lambda x: 'Failed request' in x) \\\n",
    "        .groupBy(lambda x: x.split(\",\")[2].split(\" --\")[0]) \\\n",
    "        .map(lambda x: (x[0], len(x[1]))) \\\n",
    "        .max(key=lambda x: x[1])"
   ]
  },
  {
   "cell_type": "code",
   "execution_count": 16,
   "metadata": {},
   "outputs": [
    {
     "data": {
      "text/plain": [
       "('10', 217947)"
      ]
     },
     "execution_count": 16,
     "metadata": {},
     "output_type": "execute_result"
    }
   ],
   "source": [
    "apiRDD.map(lambda x: x.split(\",\")[1].split(\"T\")[1].split(\":\")[0]) \\\n",
    "        .groupBy(lambda x: x) \\\n",
    "        .map(lambda x: (x[0], len(x[1]))) \\\n",
    "        .max(key=lambda x: x[1])"
   ]
  },
  {
   "cell_type": "code",
   "execution_count": null,
   "metadata": {},
   "outputs": [],
   "source": []
  },
  {
   "cell_type": "code",
   "execution_count": 17,
   "metadata": {},
   "outputs": [
    {
     "data": {
      "text/plain": [
       "('greatfakeman', 79524)"
      ]
     },
     "execution_count": 17,
     "metadata": {},
     "output_type": "execute_result"
    }
   ],
   "source": [
    "apiRDD.map(maprepos) \\\n",
    "        .filter(lambda x: x != \"invalid\") \\\n",
    "        .groupBy(lambda x: x) \\\n",
    "        .map(lambda x: (x[0], len(x[1]))) \\\n",
    "        .max(key=lambda x: x[1])"
   ]
  },
  {
   "cell_type": "code",
   "execution_count": null,
   "metadata": {},
   "outputs": [],
   "source": []
  },
  {
   "cell_type": "code",
   "execution_count": 18,
   "metadata": {},
   "outputs": [],
   "source": [
    "def mapaccess(x):\n",
    "    try:\n",
    "        return x.split(\"Access: \")[1].split(\",\")[0]\n",
    "    except:\n",
    "        return \"invalid\""
   ]
  },
  {
   "cell_type": "code",
   "execution_count": 19,
   "metadata": {},
   "outputs": [
    {
     "data": {
      "text/plain": [
       "('ac6168f8776', 79617)"
      ]
     },
     "execution_count": 19,
     "metadata": {},
     "output_type": "execute_result"
    }
   ],
   "source": [
    "apiRDD.filter(lambda x: \"Access\" in x) \\\n",
    "        .filter(lambda x: \"Status code: 200\" not in x) \\\n",
    "        .map(mapaccess) \\\n",
    "        .filter(lambda x: x != \"invalid\") \\\n",
    "        .groupBy(lambda x: x) \\\n",
    "        .map(lambda x: (x[0], len(x[1]))) \\\n",
    "        .max(key=lambda x: x[1])"
   ]
  },
  {
   "cell_type": "code",
   "execution_count": null,
   "metadata": {},
   "outputs": [],
   "source": []
  },
  {
   "cell_type": "code",
   "execution_count": 20,
   "metadata": {},
   "outputs": [],
   "source": [
    "reposfilepath = \"/storage/Study/myCode/spark/logs/important-repos.csv\"\n",
    "repos = sc.textFile(reposfilepath)"
   ]
  },
  {
   "cell_type": "code",
   "execution_count": 21,
   "metadata": {},
   "outputs": [
    {
     "data": {
      "text/plain": [
       "['id,url,owner_id,name,language,created_at,forked_from,deleted,updated_at',\n",
       " '60256709,https://api.github.com/repos/1010026218/Basic,34433644,Basic,Java,2017-03-21 07:57:59,35370568,0,1970-01-02 00:00:00',\n",
       " '60250609,https://api.github.com/repos/10imaging/nextcloud-server,6978755,nextcloud-server,PHP,2017-03-13 06:31:16,38091986,0,1970-01-02 00:00:00',\n",
       " '40175831,https://api.github.com/repos/123wowow123/chronopin_node,5114164,chronopin_node,JavaScript,2016-06-29 02:24:43,NULL,0,1970-01-02 00:00:00',\n",
       " '25265021,https://api.github.com/repos/1N3/Sn1per,5002066,Sn1per,PHP,2015-09-06 15:47:38,NULL,0,2016-02-03 15:43:59']"
      ]
     },
     "execution_count": 21,
     "metadata": {},
     "output_type": "execute_result"
    }
   ],
   "source": [
    "repos.take(5)"
   ]
  },
  {
   "cell_type": "code",
   "execution_count": 22,
   "metadata": {},
   "outputs": [],
   "source": [
    "from pyspark.sql import SQLContext\n",
    "sqlContext = SQLContext(sc)"
   ]
  },
  {
   "cell_type": "code",
   "execution_count": 23,
   "metadata": {},
   "outputs": [],
   "source": [
    "reposSql = sqlContext.read.csv(reposfilepath, inferSchema=True, header = True)"
   ]
  },
  {
   "cell_type": "code",
   "execution_count": 24,
   "metadata": {},
   "outputs": [
    {
     "name": "stdout",
     "output_type": "stream",
     "text": [
      "root\n",
      " |-- id: integer (nullable = true)\n",
      " |-- url: string (nullable = true)\n",
      " |-- owner_id: integer (nullable = true)\n",
      " |-- name: string (nullable = true)\n",
      " |-- language: string (nullable = true)\n",
      " |-- created_at: string (nullable = true)\n",
      " |-- forked_from: string (nullable = true)\n",
      " |-- deleted: integer (nullable = true)\n",
      " |-- updated_at: string (nullable = true)\n",
      "\n",
      "+--------+--------------------+--------+----------------+----------+-------------------+-----------+-------+-------------------+\n",
      "|      id|                 url|owner_id|            name|  language|         created_at|forked_from|deleted|         updated_at|\n",
      "+--------+--------------------+--------+----------------+----------+-------------------+-----------+-------+-------------------+\n",
      "|60256709|https://api.githu...|34433644|           Basic|      Java|2017-03-21 07:57:59|   35370568|      0|1970-01-02 00:00:00|\n",
      "|60250609|https://api.githu...| 6978755|nextcloud-server|       PHP|2017-03-13 06:31:16|   38091986|      0|1970-01-02 00:00:00|\n",
      "|40175831|https://api.githu...| 5114164|  chronopin_node|JavaScript|2016-06-29 02:24:43|       NULL|      0|1970-01-02 00:00:00|\n",
      "+--------+--------------------+--------+----------------+----------+-------------------+-----------+-------+-------------------+\n",
      "only showing top 3 rows\n",
      "\n"
     ]
    }
   ],
   "source": [
    "reposSql.printSchema()\n",
    "reposSql.show(3)"
   ]
  },
  {
   "cell_type": "code",
   "execution_count": 26,
   "metadata": {},
   "outputs": [],
   "source": [
    "def mapSuccFail(x):\n",
    "    try:\n",
    "        return (re.search('^.*repos/(.*?)/.*$', x.split(\",\")[2]).groups()[0],\n",
    "               int(\"Successful request\" in x),\n",
    "               int(\"Failed request\" in x))\n",
    "    except:\n",
    "        return (\"invalid\",0,0)"
   ]
  },
  {
   "cell_type": "code",
   "execution_count": 27,
   "metadata": {},
   "outputs": [
    {
     "data": {
      "text/plain": [
       "[('Particular', 1, 0),\n",
       " ('javier-serrano', 1, 0),\n",
       " ('llyp618', 1, 0),\n",
       " ('mdmahamodur2013', 1, 0),\n",
       " ('cultuurnet', 1, 0)]"
      ]
     },
     "execution_count": 27,
     "metadata": {},
     "output_type": "execute_result"
    }
   ],
   "source": [
    "apiRDD.map(mapSuccFail).filter(lambda x: x[0] != \"invalid\").take(5)"
   ]
  },
  {
   "cell_type": "code",
   "execution_count": 28,
   "metadata": {},
   "outputs": [],
   "source": [
    "reposRDD = apiRDD.map(mapSuccFail).filter(lambda x: x[0] != \"invalid\")"
   ]
  },
  {
   "cell_type": "code",
   "execution_count": 29,
   "metadata": {},
   "outputs": [],
   "source": [
    "reposSqlRDD = reposRDD.toDF()"
   ]
  },
  {
   "cell_type": "code",
   "execution_count": 30,
   "metadata": {},
   "outputs": [
    {
     "name": "stdout",
     "output_type": "stream",
     "text": [
      "+---------------+---+---+\n",
      "|             _1| _2| _3|\n",
      "+---------------+---+---+\n",
      "|     Particular|  1|  0|\n",
      "| javier-serrano|  1|  0|\n",
      "|        llyp618|  1|  0|\n",
      "|mdmahamodur2013|  1|  0|\n",
      "|     cultuurnet|  1|  0|\n",
      "|        Shopify|  1|  0|\n",
      "|   CanonicalLtd|  1|  0|\n",
      "|   greatfakeman|  0|  1|\n",
      "|   abdelguezrou|  1|  0|\n",
      "|      openfisca|  1|  0|\n",
      "|   greatfakeman|  0|  1|\n",
      "|       Midhilaj|  1|  0|\n",
      "|   CanonicalLtd|  1|  0|\n",
      "|      JoffZhang|  1|  0|\n",
      "|     tianshapjq|  1|  0|\n",
      "|     OsmanBrito|  1|  0|\n",
      "|     bangonkali|  1|  0|\n",
      "|       Lena1985|  1|  0|\n",
      "| marcelobdsilva|  1|  0|\n",
      "|        RaoUmer|  1|  0|\n",
      "+---------------+---+---+\n",
      "only showing top 20 rows\n",
      "\n"
     ]
    }
   ],
   "source": [
    "reposSqlRDD.show()"
   ]
  },
  {
   "cell_type": "code",
   "execution_count": 31,
   "metadata": {},
   "outputs": [],
   "source": [
    "reposSqlRDD.createOrReplaceTempView(\"reposSqlRDD\")\n",
    "reposSql.createOrReplaceTempView(\"reposSql\")"
   ]
  },
  {
   "cell_type": "code",
   "execution_count": 32,
   "metadata": {},
   "outputs": [],
   "source": [
    "sqlString = '''select t1.name, sum(t2._2) as Successful, sum(t2._3) as Failed from reposSql t1 \n",
    "                inner join reposSqlRDD t2 \n",
    "                on (t1.name = t2._1)\n",
    "                group by t1.name'''"
   ]
  },
  {
   "cell_type": "code",
   "execution_count": 33,
   "metadata": {},
   "outputs": [
    {
     "name": "stdout",
     "output_type": "stream",
     "text": [
      "+--------------+----------+------+\n",
      "|          name|Successful|Failed|\n",
      "+--------------+----------+------+\n",
      "|      collectd|        26|     0|\n",
      "|     openresty|        20|     0|\n",
      "|           jwt|         1|     0|\n",
      "|     benchflow|        20|     0|\n",
      "|  speedtracker|         6|     0|\n",
      "|       angular|      2265|    21|\n",
      "|    AngleSharp|         2|     0|\n",
      "|PoE-TradeMacro|         1|     0|\n",
      "|     mediadrop|         3|     0|\n",
      "|        scrapy|        25|     0|\n",
      "|           aui|        13|     0|\n",
      "|       facette|         3|     0|\n",
      "|         cdnjs|        83|     0|\n",
      "|      rapidpro|         3|     0|\n",
      "|   thingsboard|         7|     0|\n",
      "|       3xp10it|         9|     0|\n",
      "|        neovim|        91|     0|\n",
      "|           vcr|         1|     0|\n",
      "|         netty|        21|     2|\n",
      "|       nistats|         6|     0|\n",
      "+--------------+----------+------+\n",
      "only showing top 20 rows\n",
      "\n"
     ]
    }
   ],
   "source": [
    "sqlContext.sql(sqlString).show()"
   ]
  },
  {
   "cell_type": "code",
   "execution_count": null,
   "metadata": {},
   "outputs": [],
   "source": []
  },
  {
   "cell_type": "code",
   "execution_count": null,
   "metadata": {},
   "outputs": [],
   "source": []
  },
  {
   "cell_type": "code",
   "execution_count": null,
   "metadata": {},
   "outputs": [],
   "source": []
  },
  {
   "cell_type": "code",
   "execution_count": null,
   "metadata": {},
   "outputs": [],
   "source": []
  },
  {
   "cell_type": "code",
   "execution_count": null,
   "metadata": {},
   "outputs": [],
   "source": []
  },
  {
   "cell_type": "code",
   "execution_count": null,
   "metadata": {},
   "outputs": [],
   "source": []
  },
  {
   "cell_type": "code",
   "execution_count": null,
   "metadata": {},
   "outputs": [],
   "source": []
  },
  {
   "cell_type": "code",
   "execution_count": null,
   "metadata": {},
   "outputs": [],
   "source": []
  },
  {
   "cell_type": "code",
   "execution_count": null,
   "metadata": {},
   "outputs": [],
   "source": []
  },
  {
   "cell_type": "code",
   "execution_count": null,
   "metadata": {},
   "outputs": [],
   "source": []
  },
  {
   "cell_type": "code",
   "execution_count": null,
   "metadata": {},
   "outputs": [],
   "source": []
  },
  {
   "cell_type": "code",
   "execution_count": null,
   "metadata": {},
   "outputs": [],
   "source": []
  }
 ],
 "metadata": {
  "kernelspec": {
   "display_name": "Python 3",
   "language": "python",
   "name": "python3"
  },
  "language_info": {
   "codemirror_mode": {
    "name": "ipython",
    "version": 3
   },
   "file_extension": ".py",
   "mimetype": "text/x-python",
   "name": "python",
   "nbconvert_exporter": "python",
   "pygments_lexer": "ipython3",
   "version": "3.7.3"
  }
 },
 "nbformat": 4,
 "nbformat_minor": 2
}
